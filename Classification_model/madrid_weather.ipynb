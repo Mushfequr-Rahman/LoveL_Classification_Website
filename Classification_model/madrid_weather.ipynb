{
 "cells": [
  {
   "cell_type": "markdown",
   "metadata": {
    "colab_type": "text",
    "id": "6QnWsVP_-flC"
   },
   "source": [
    "# Assignment 3: \n",
    "\n",
    "[Available on Google Colaboratory](https://colab.research.google.com/drive/1QrcjfdcahcBPU3FuKMhxMGozGRzMTA3H)"
   ]
  },
  {
   "cell_type": "markdown",
   "metadata": {
    "colab_type": "text",
    "id": "UfCt8EdDKzvQ"
   },
   "source": [
    "## About\n",
    "\n",
    "In this assignment, you will work with the daily weather data for the city of Madrid from 1997 - 2015.\n",
    "\n",
    "The objective is to train a neural network that will predict various weather events including:\n",
    "\n",
    "- Rain\n",
    "- Snow\n",
    "- Fog\n",
    "- Thunderstorm\n",
    "- Hail\n",
    "- Tornado"
   ]
  },
  {
   "cell_type": "markdown",
   "metadata": {
    "colab_type": "text",
    "id": "RmH74W2mMoVk"
   },
   "source": [
    "## Submission: December 8, 11:59PM\n",
    "\n",
    "> - You must submit via `git push`.\n",
    "> - You must complete running all the cells, and include the executed Jupyter notebook in the submitted commit.\n",
    "> - **Due Date**: **December 8, 11:59PM**\n",
    "> - No late submission can be accepted.\n",
    "> - No exceptions for submission date is possible due to the end of semester."
   ]
  },
  {
   "cell_type": "code",
   "execution_count": 1,
   "metadata": {
    "colab": {
     "base_uri": "https://localhost:8080/",
     "height": 34
    },
    "colab_type": "code",
    "id": "g21QGZF8sjci",
    "outputId": "c9dfbefb-e8ff-411c-9b60-23cda9946614"
   },
   "outputs": [
    {
     "name": "stderr",
     "output_type": "stream",
     "text": [
      "UsageError: Line magic function `%tensorflow_version` not found.\n"
     ]
    }
   ],
   "source": [
    "%tensorflow_version 2.x\n"
   ]
  },
  {
   "cell_type": "code",
   "execution_count": 2,
   "metadata": {
    "colab": {},
    "colab_type": "code",
    "id": "Ik1fi5_LtMv4"
   },
   "outputs": [
    {
     "name": "stderr",
     "output_type": "stream",
     "text": [
      "Using TensorFlow backend.\n"
     ]
    }
   ],
   "source": [
    "import tensorflow as tf\n",
    "import numpy as np\n",
    "import pandas as pd\n",
    "import matplotlib.pyplot as pyplot\n",
    "from tensorflow.keras.models import Sequential\n",
    "from tensorflow.keras.layers import Input, Reshape, Dense, Conv2D, MaxPool2D,Dropout\n",
    "from tensorflow.keras.losses import sparse_categorical_crossentropy\n",
    "from tensorflow.keras.optimizers import Adam\n",
    "from keras.models import load_model\n"
   ]
  },
  {
   "cell_type": "markdown",
   "metadata": {
    "colab_type": "text",
    "id": "D7FQDxrP-dA8"
   },
   "source": [
    "# Getting the data\n",
    "\n",
    "The data is available at the given URL.  The following code will load the data into a [Pandas DataFrame](https://pandas.pydata.org/pandas-docs/stable/).\n",
    "\n",
    "If you are unfamiliar with DataFrame API, you can easily pick it up from here: https://pandas.pydata.org/pandas-docs/stable/getting_started/10min.html\n",
    "\n",
    "Very minimal knowledge of DataFrame is needed, as most of the code is provided in the notebook already."
   ]
  },
  {
   "cell_type": "code",
   "execution_count": 3,
   "metadata": {
    "colab": {},
    "colab_type": "code",
    "id": "slnlgtt53R2x"
   },
   "outputs": [],
   "source": [
    "url = 'https://github.com/ontariotechu-csci4050u/course-material-2019/' \\\n",
    "      'raw/master/data/weather_madrid_LEMD_1997_2015.csv.gz'\n",
    "df = pd.read_csv(url).rename(columns={\"CET\": \"date\"}).set_index('date')\n",
    "df.columns = [x.strip() for x in df.columns]"
   ]
  },
  {
   "cell_type": "markdown",
   "metadata": {
    "colab_type": "text",
    "id": "_Bkebow__uPA"
   },
   "source": [
    "This is what the dataframe `df` looks like.  Note that it has a number of numerical attributes including _temperature_, _pressure_, _visibility_, etc."
   ]
  },
  {
   "cell_type": "code",
   "execution_count": 4,
   "metadata": {
    "colab": {
     "base_uri": "https://localhost:8080/",
     "height": 374
    },
    "colab_type": "code",
    "id": "I6sf5P0K3WvP",
    "outputId": "3ea3aee8-ac4b-4dba-ac58-e96c2e230ccd"
   },
   "outputs": [
    {
     "data": {
      "text/html": [
       "<div>\n",
       "<style scoped>\n",
       "    .dataframe tbody tr th:only-of-type {\n",
       "        vertical-align: middle;\n",
       "    }\n",
       "\n",
       "    .dataframe tbody tr th {\n",
       "        vertical-align: top;\n",
       "    }\n",
       "\n",
       "    .dataframe thead th {\n",
       "        text-align: right;\n",
       "    }\n",
       "</style>\n",
       "<table border=\"1\" class=\"dataframe\">\n",
       "  <thead>\n",
       "    <tr style=\"text-align: right;\">\n",
       "      <th></th>\n",
       "      <th>Max TemperatureC</th>\n",
       "      <th>Mean TemperatureC</th>\n",
       "      <th>Min TemperatureC</th>\n",
       "      <th>Dew PointC</th>\n",
       "      <th>MeanDew PointC</th>\n",
       "      <th>Min DewpointC</th>\n",
       "      <th>Max Humidity</th>\n",
       "      <th>Mean Humidity</th>\n",
       "      <th>Min Humidity</th>\n",
       "      <th>Max Sea Level PressurehPa</th>\n",
       "      <th>...</th>\n",
       "      <th>Max VisibilityKm</th>\n",
       "      <th>Mean VisibilityKm</th>\n",
       "      <th>Min VisibilitykM</th>\n",
       "      <th>Max Wind SpeedKm/h</th>\n",
       "      <th>Mean Wind SpeedKm/h</th>\n",
       "      <th>Max Gust SpeedKm/h</th>\n",
       "      <th>Precipitationmm</th>\n",
       "      <th>CloudCover</th>\n",
       "      <th>Events</th>\n",
       "      <th>WindDirDegrees</th>\n",
       "    </tr>\n",
       "    <tr>\n",
       "      <th>date</th>\n",
       "      <th></th>\n",
       "      <th></th>\n",
       "      <th></th>\n",
       "      <th></th>\n",
       "      <th></th>\n",
       "      <th></th>\n",
       "      <th></th>\n",
       "      <th></th>\n",
       "      <th></th>\n",
       "      <th></th>\n",
       "      <th></th>\n",
       "      <th></th>\n",
       "      <th></th>\n",
       "      <th></th>\n",
       "      <th></th>\n",
       "      <th></th>\n",
       "      <th></th>\n",
       "      <th></th>\n",
       "      <th></th>\n",
       "      <th></th>\n",
       "      <th></th>\n",
       "    </tr>\n",
       "  </thead>\n",
       "  <tbody>\n",
       "    <tr>\n",
       "      <th>1997-1-1</th>\n",
       "      <td>7.0</td>\n",
       "      <td>4.0</td>\n",
       "      <td>2.0</td>\n",
       "      <td>5.0</td>\n",
       "      <td>3.0</td>\n",
       "      <td>2.0</td>\n",
       "      <td>100.0</td>\n",
       "      <td>95.0</td>\n",
       "      <td>76.0</td>\n",
       "      <td>1010</td>\n",
       "      <td>...</td>\n",
       "      <td>10.0</td>\n",
       "      <td>9.0</td>\n",
       "      <td>4.0</td>\n",
       "      <td>13</td>\n",
       "      <td>6</td>\n",
       "      <td>NaN</td>\n",
       "      <td>0.0</td>\n",
       "      <td>6.0</td>\n",
       "      <td>NaN</td>\n",
       "      <td>229</td>\n",
       "    </tr>\n",
       "    <tr>\n",
       "      <th>1997-1-2</th>\n",
       "      <td>7.0</td>\n",
       "      <td>3.0</td>\n",
       "      <td>0.0</td>\n",
       "      <td>6.0</td>\n",
       "      <td>3.0</td>\n",
       "      <td>0.0</td>\n",
       "      <td>100.0</td>\n",
       "      <td>92.0</td>\n",
       "      <td>71.0</td>\n",
       "      <td>1007</td>\n",
       "      <td>...</td>\n",
       "      <td>10.0</td>\n",
       "      <td>9.0</td>\n",
       "      <td>4.0</td>\n",
       "      <td>26</td>\n",
       "      <td>8</td>\n",
       "      <td>47.0</td>\n",
       "      <td>0.0</td>\n",
       "      <td>5.0</td>\n",
       "      <td>Rain</td>\n",
       "      <td>143</td>\n",
       "    </tr>\n",
       "    <tr>\n",
       "      <th>1997-1-3</th>\n",
       "      <td>5.0</td>\n",
       "      <td>3.0</td>\n",
       "      <td>2.0</td>\n",
       "      <td>5.0</td>\n",
       "      <td>1.0</td>\n",
       "      <td>-1.0</td>\n",
       "      <td>100.0</td>\n",
       "      <td>85.0</td>\n",
       "      <td>70.0</td>\n",
       "      <td>1005</td>\n",
       "      <td>...</td>\n",
       "      <td>10.0</td>\n",
       "      <td>10.0</td>\n",
       "      <td>7.0</td>\n",
       "      <td>27</td>\n",
       "      <td>19</td>\n",
       "      <td>NaN</td>\n",
       "      <td>0.0</td>\n",
       "      <td>6.0</td>\n",
       "      <td>Rain-Snow</td>\n",
       "      <td>256</td>\n",
       "    </tr>\n",
       "    <tr>\n",
       "      <th>1997-1-4</th>\n",
       "      <td>7.0</td>\n",
       "      <td>3.0</td>\n",
       "      <td>-1.0</td>\n",
       "      <td>-2.0</td>\n",
       "      <td>-3.0</td>\n",
       "      <td>-4.0</td>\n",
       "      <td>86.0</td>\n",
       "      <td>63.0</td>\n",
       "      <td>49.0</td>\n",
       "      <td>1012</td>\n",
       "      <td>...</td>\n",
       "      <td>10.0</td>\n",
       "      <td>10.0</td>\n",
       "      <td>10.0</td>\n",
       "      <td>27</td>\n",
       "      <td>19</td>\n",
       "      <td>40.0</td>\n",
       "      <td>0.0</td>\n",
       "      <td>2.0</td>\n",
       "      <td>NaN</td>\n",
       "      <td>284</td>\n",
       "    </tr>\n",
       "    <tr>\n",
       "      <th>1997-1-5</th>\n",
       "      <td>2.0</td>\n",
       "      <td>0.0</td>\n",
       "      <td>-1.0</td>\n",
       "      <td>2.0</td>\n",
       "      <td>0.0</td>\n",
       "      <td>-3.0</td>\n",
       "      <td>100.0</td>\n",
       "      <td>95.0</td>\n",
       "      <td>86.0</td>\n",
       "      <td>1012</td>\n",
       "      <td>...</td>\n",
       "      <td>10.0</td>\n",
       "      <td>5.0</td>\n",
       "      <td>1.0</td>\n",
       "      <td>14</td>\n",
       "      <td>6</td>\n",
       "      <td>NaN</td>\n",
       "      <td>0.0</td>\n",
       "      <td>7.0</td>\n",
       "      <td>Snow</td>\n",
       "      <td>2</td>\n",
       "    </tr>\n",
       "  </tbody>\n",
       "</table>\n",
       "<p>5 rows × 22 columns</p>\n",
       "</div>"
      ],
      "text/plain": [
       "          Max TemperatureC  Mean TemperatureC  Min TemperatureC  Dew PointC  \\\n",
       "date                                                                          \n",
       "1997-1-1               7.0                4.0               2.0         5.0   \n",
       "1997-1-2               7.0                3.0               0.0         6.0   \n",
       "1997-1-3               5.0                3.0               2.0         5.0   \n",
       "1997-1-4               7.0                3.0              -1.0        -2.0   \n",
       "1997-1-5               2.0                0.0              -1.0         2.0   \n",
       "\n",
       "          MeanDew PointC  Min DewpointC  Max Humidity  Mean Humidity  \\\n",
       "date                                                                   \n",
       "1997-1-1             3.0            2.0         100.0           95.0   \n",
       "1997-1-2             3.0            0.0         100.0           92.0   \n",
       "1997-1-3             1.0           -1.0         100.0           85.0   \n",
       "1997-1-4            -3.0           -4.0          86.0           63.0   \n",
       "1997-1-5             0.0           -3.0         100.0           95.0   \n",
       "\n",
       "          Min Humidity  Max Sea Level PressurehPa  ...  Max VisibilityKm  \\\n",
       "date                                               ...                     \n",
       "1997-1-1          76.0                       1010  ...              10.0   \n",
       "1997-1-2          71.0                       1007  ...              10.0   \n",
       "1997-1-3          70.0                       1005  ...              10.0   \n",
       "1997-1-4          49.0                       1012  ...              10.0   \n",
       "1997-1-5          86.0                       1012  ...              10.0   \n",
       "\n",
       "          Mean VisibilityKm  Min VisibilitykM  Max Wind SpeedKm/h  \\\n",
       "date                                                                \n",
       "1997-1-1                9.0               4.0                  13   \n",
       "1997-1-2                9.0               4.0                  26   \n",
       "1997-1-3               10.0               7.0                  27   \n",
       "1997-1-4               10.0              10.0                  27   \n",
       "1997-1-5                5.0               1.0                  14   \n",
       "\n",
       "          Mean Wind SpeedKm/h  Max Gust SpeedKm/h  Precipitationmm  \\\n",
       "date                                                                 \n",
       "1997-1-1                    6                 NaN              0.0   \n",
       "1997-1-2                    8                47.0              0.0   \n",
       "1997-1-3                   19                 NaN              0.0   \n",
       "1997-1-4                   19                40.0              0.0   \n",
       "1997-1-5                    6                 NaN              0.0   \n",
       "\n",
       "          CloudCover     Events  WindDirDegrees  \n",
       "date                                             \n",
       "1997-1-1         6.0        NaN             229  \n",
       "1997-1-2         5.0       Rain             143  \n",
       "1997-1-3         6.0  Rain-Snow             256  \n",
       "1997-1-4         2.0        NaN             284  \n",
       "1997-1-5         7.0       Snow               2  \n",
       "\n",
       "[5 rows x 22 columns]"
      ]
     },
     "execution_count": 4,
     "metadata": {},
     "output_type": "execute_result"
    }
   ],
   "source": [
    "\n",
    "df.head()"
   ]
  },
  {
   "cell_type": "markdown",
   "metadata": {
    "colab_type": "text",
    "id": "c5n1A31fA1Jv"
   },
   "source": [
    "# Building the weather event columns"
   ]
  },
  {
   "cell_type": "markdown",
   "metadata": {
    "colab_type": "text",
    "id": "BgjMYzTs_7Zi"
   },
   "source": [
    "We construct _binary_ columns as indicators of the key weather events that occurred during the day.\n",
    "\n",
    "The weather conditions are:\n",
    "\n",
    "- Rain, Snow, Fog, Thunderstorm, Hail, Tornado\n",
    "- and also _NoEvent_.\n",
    "\n",
    "They are additional columns to the dataframe."
   ]
  },
  {
   "cell_type": "code",
   "execution_count": 5,
   "metadata": {
    "colab": {},
    "colab_type": "code",
    "id": "170C1ERN3tOp"
   },
   "outputs": [],
   "source": [
    "event_columns = ['Rain', 'Snow', 'Fog', 'Thunderstorm', 'Hail', 'Tornado', 'NoEvent']"
   ]
  },
  {
   "cell_type": "code",
   "execution_count": 6,
   "metadata": {
    "colab": {},
    "colab_type": "code",
    "id": "kOjR1mMC40Hg"
   },
   "outputs": [],
   "source": [
    "for ev in event_columns:\n",
    "  if ev == 'NoEvent':\n",
    "    df[ev] = df['Events'].isna()\n",
    "  else:\n",
    "    df[ev] = df['Events'].str.contains(ev).fillna(False)"
   ]
  },
  {
   "cell_type": "markdown",
   "metadata": {
    "colab_type": "text",
    "id": "uJ-jyIszAXVI"
   },
   "source": [
    "Here is the _augmented_ dataframe.  Scroll horizontally to make sure that `df` now contains the binary indicators of each weather event."
   ]
  },
  {
   "cell_type": "code",
   "execution_count": 7,
   "metadata": {
    "colab": {
     "base_uri": "https://localhost:8080/",
     "height": 374
    },
    "colab_type": "code",
    "id": "dkRupUIp6Tpm",
    "outputId": "46bc0172-6632-4d94-d580-a5507c949c23"
   },
   "outputs": [
    {
     "data": {
      "text/html": [
       "<div>\n",
       "<style scoped>\n",
       "    .dataframe tbody tr th:only-of-type {\n",
       "        vertical-align: middle;\n",
       "    }\n",
       "\n",
       "    .dataframe tbody tr th {\n",
       "        vertical-align: top;\n",
       "    }\n",
       "\n",
       "    .dataframe thead th {\n",
       "        text-align: right;\n",
       "    }\n",
       "</style>\n",
       "<table border=\"1\" class=\"dataframe\">\n",
       "  <thead>\n",
       "    <tr style=\"text-align: right;\">\n",
       "      <th></th>\n",
       "      <th>Max TemperatureC</th>\n",
       "      <th>Mean TemperatureC</th>\n",
       "      <th>Min TemperatureC</th>\n",
       "      <th>Dew PointC</th>\n",
       "      <th>MeanDew PointC</th>\n",
       "      <th>Min DewpointC</th>\n",
       "      <th>Max Humidity</th>\n",
       "      <th>Mean Humidity</th>\n",
       "      <th>Min Humidity</th>\n",
       "      <th>Max Sea Level PressurehPa</th>\n",
       "      <th>...</th>\n",
       "      <th>CloudCover</th>\n",
       "      <th>Events</th>\n",
       "      <th>WindDirDegrees</th>\n",
       "      <th>Rain</th>\n",
       "      <th>Snow</th>\n",
       "      <th>Fog</th>\n",
       "      <th>Thunderstorm</th>\n",
       "      <th>Hail</th>\n",
       "      <th>Tornado</th>\n",
       "      <th>NoEvent</th>\n",
       "    </tr>\n",
       "    <tr>\n",
       "      <th>date</th>\n",
       "      <th></th>\n",
       "      <th></th>\n",
       "      <th></th>\n",
       "      <th></th>\n",
       "      <th></th>\n",
       "      <th></th>\n",
       "      <th></th>\n",
       "      <th></th>\n",
       "      <th></th>\n",
       "      <th></th>\n",
       "      <th></th>\n",
       "      <th></th>\n",
       "      <th></th>\n",
       "      <th></th>\n",
       "      <th></th>\n",
       "      <th></th>\n",
       "      <th></th>\n",
       "      <th></th>\n",
       "      <th></th>\n",
       "      <th></th>\n",
       "      <th></th>\n",
       "    </tr>\n",
       "  </thead>\n",
       "  <tbody>\n",
       "    <tr>\n",
       "      <th>1997-1-1</th>\n",
       "      <td>7.0</td>\n",
       "      <td>4.0</td>\n",
       "      <td>2.0</td>\n",
       "      <td>5.0</td>\n",
       "      <td>3.0</td>\n",
       "      <td>2.0</td>\n",
       "      <td>100.0</td>\n",
       "      <td>95.0</td>\n",
       "      <td>76.0</td>\n",
       "      <td>1010</td>\n",
       "      <td>...</td>\n",
       "      <td>6.0</td>\n",
       "      <td>NaN</td>\n",
       "      <td>229</td>\n",
       "      <td>False</td>\n",
       "      <td>False</td>\n",
       "      <td>False</td>\n",
       "      <td>False</td>\n",
       "      <td>False</td>\n",
       "      <td>False</td>\n",
       "      <td>True</td>\n",
       "    </tr>\n",
       "    <tr>\n",
       "      <th>1997-1-2</th>\n",
       "      <td>7.0</td>\n",
       "      <td>3.0</td>\n",
       "      <td>0.0</td>\n",
       "      <td>6.0</td>\n",
       "      <td>3.0</td>\n",
       "      <td>0.0</td>\n",
       "      <td>100.0</td>\n",
       "      <td>92.0</td>\n",
       "      <td>71.0</td>\n",
       "      <td>1007</td>\n",
       "      <td>...</td>\n",
       "      <td>5.0</td>\n",
       "      <td>Rain</td>\n",
       "      <td>143</td>\n",
       "      <td>True</td>\n",
       "      <td>False</td>\n",
       "      <td>False</td>\n",
       "      <td>False</td>\n",
       "      <td>False</td>\n",
       "      <td>False</td>\n",
       "      <td>False</td>\n",
       "    </tr>\n",
       "    <tr>\n",
       "      <th>1997-1-3</th>\n",
       "      <td>5.0</td>\n",
       "      <td>3.0</td>\n",
       "      <td>2.0</td>\n",
       "      <td>5.0</td>\n",
       "      <td>1.0</td>\n",
       "      <td>-1.0</td>\n",
       "      <td>100.0</td>\n",
       "      <td>85.0</td>\n",
       "      <td>70.0</td>\n",
       "      <td>1005</td>\n",
       "      <td>...</td>\n",
       "      <td>6.0</td>\n",
       "      <td>Rain-Snow</td>\n",
       "      <td>256</td>\n",
       "      <td>True</td>\n",
       "      <td>True</td>\n",
       "      <td>False</td>\n",
       "      <td>False</td>\n",
       "      <td>False</td>\n",
       "      <td>False</td>\n",
       "      <td>False</td>\n",
       "    </tr>\n",
       "    <tr>\n",
       "      <th>1997-1-4</th>\n",
       "      <td>7.0</td>\n",
       "      <td>3.0</td>\n",
       "      <td>-1.0</td>\n",
       "      <td>-2.0</td>\n",
       "      <td>-3.0</td>\n",
       "      <td>-4.0</td>\n",
       "      <td>86.0</td>\n",
       "      <td>63.0</td>\n",
       "      <td>49.0</td>\n",
       "      <td>1012</td>\n",
       "      <td>...</td>\n",
       "      <td>2.0</td>\n",
       "      <td>NaN</td>\n",
       "      <td>284</td>\n",
       "      <td>False</td>\n",
       "      <td>False</td>\n",
       "      <td>False</td>\n",
       "      <td>False</td>\n",
       "      <td>False</td>\n",
       "      <td>False</td>\n",
       "      <td>True</td>\n",
       "    </tr>\n",
       "    <tr>\n",
       "      <th>1997-1-5</th>\n",
       "      <td>2.0</td>\n",
       "      <td>0.0</td>\n",
       "      <td>-1.0</td>\n",
       "      <td>2.0</td>\n",
       "      <td>0.0</td>\n",
       "      <td>-3.0</td>\n",
       "      <td>100.0</td>\n",
       "      <td>95.0</td>\n",
       "      <td>86.0</td>\n",
       "      <td>1012</td>\n",
       "      <td>...</td>\n",
       "      <td>7.0</td>\n",
       "      <td>Snow</td>\n",
       "      <td>2</td>\n",
       "      <td>False</td>\n",
       "      <td>True</td>\n",
       "      <td>False</td>\n",
       "      <td>False</td>\n",
       "      <td>False</td>\n",
       "      <td>False</td>\n",
       "      <td>False</td>\n",
       "    </tr>\n",
       "  </tbody>\n",
       "</table>\n",
       "<p>5 rows × 29 columns</p>\n",
       "</div>"
      ],
      "text/plain": [
       "          Max TemperatureC  Mean TemperatureC  Min TemperatureC  Dew PointC  \\\n",
       "date                                                                          \n",
       "1997-1-1               7.0                4.0               2.0         5.0   \n",
       "1997-1-2               7.0                3.0               0.0         6.0   \n",
       "1997-1-3               5.0                3.0               2.0         5.0   \n",
       "1997-1-4               7.0                3.0              -1.0        -2.0   \n",
       "1997-1-5               2.0                0.0              -1.0         2.0   \n",
       "\n",
       "          MeanDew PointC  Min DewpointC  Max Humidity  Mean Humidity  \\\n",
       "date                                                                   \n",
       "1997-1-1             3.0            2.0         100.0           95.0   \n",
       "1997-1-2             3.0            0.0         100.0           92.0   \n",
       "1997-1-3             1.0           -1.0         100.0           85.0   \n",
       "1997-1-4            -3.0           -4.0          86.0           63.0   \n",
       "1997-1-5             0.0           -3.0         100.0           95.0   \n",
       "\n",
       "          Min Humidity  Max Sea Level PressurehPa  ...  CloudCover     Events  \\\n",
       "date                                               ...                          \n",
       "1997-1-1          76.0                       1010  ...         6.0        NaN   \n",
       "1997-1-2          71.0                       1007  ...         5.0       Rain   \n",
       "1997-1-3          70.0                       1005  ...         6.0  Rain-Snow   \n",
       "1997-1-4          49.0                       1012  ...         2.0        NaN   \n",
       "1997-1-5          86.0                       1012  ...         7.0       Snow   \n",
       "\n",
       "          WindDirDegrees   Rain   Snow    Fog  Thunderstorm   Hail  Tornado  \\\n",
       "date                                                                          \n",
       "1997-1-1             229  False  False  False         False  False    False   \n",
       "1997-1-2             143   True  False  False         False  False    False   \n",
       "1997-1-3             256   True   True  False         False  False    False   \n",
       "1997-1-4             284  False  False  False         False  False    False   \n",
       "1997-1-5               2  False   True  False         False  False    False   \n",
       "\n",
       "          NoEvent  \n",
       "date               \n",
       "1997-1-1     True  \n",
       "1997-1-2    False  \n",
       "1997-1-3    False  \n",
       "1997-1-4     True  \n",
       "1997-1-5    False  \n",
       "\n",
       "[5 rows x 29 columns]"
      ]
     },
     "execution_count": 7,
     "metadata": {},
     "output_type": "execute_result"
    }
   ],
   "source": [
    "df.head()"
   ]
  },
  {
   "cell_type": "markdown",
   "metadata": {
    "colab_type": "text",
    "id": "Fv9-vFU9Ayay"
   },
   "source": [
    "## Building the features"
   ]
  },
  {
   "cell_type": "markdown",
   "metadata": {
    "colab_type": "text",
    "id": "u3iA1HBHBHHi"
   },
   "source": [
    "We identify the numeric columns as _observations_.  We will use these columns as input vectors to a neural network.\n",
    "\n",
    "**Note**: Since large magnitude differences will cause serious numerical issues during gradient descent, we *always* use **normalized** vectors.  So for each numerical column, we compute the minimum and maximum values which are used to rescale the column to the range of :\n",
    "`[0.0 .. 1.0]`"
   ]
  },
  {
   "cell_type": "code",
   "execution_count": 8,
   "metadata": {
    "colab": {},
    "colab_type": "code",
    "id": "-IorDBmn6Uvd"
   },
   "outputs": [],
   "source": [
    "def get_normalized_features(df, columns):\n",
    "  df2 = pd.DataFrame(index=df.index)\n",
    "  for c in columns:\n",
    "    series = df[c]\n",
    "    max = series.max()\n",
    "    min = series.min()\n",
    "    df2[c] = (series - min) / (max - min)\n",
    "  return df2"
   ]
  },
  {
   "cell_type": "code",
   "execution_count": 9,
   "metadata": {
    "colab": {},
    "colab_type": "code",
    "id": "wSTJUBsZ7gJ_"
   },
   "outputs": [],
   "source": [
    "numeric_columns = [\n",
    "       'Max TemperatureC',\n",
    "       'Mean TemperatureC',\n",
    "       'Min TemperatureC',\n",
    "       'Dew PointC',\n",
    "       'MeanDew PointC',\n",
    "       'Min DewpointC',\n",
    "       'Max Humidity',\n",
    "       'Mean Humidity',\n",
    "       'Min Humidity',\n",
    "       'Max Sea Level PressurehPa',\n",
    "       'Mean Sea Level PressurehPa',\n",
    "       'Min Sea Level PressurehPa',\n",
    "       'Max VisibilityKm',\n",
    "       'Mean VisibilityKm',\n",
    "       'Min VisibilitykM',\n",
    "       'Max Wind SpeedKm/h',\n",
    "       'Mean Wind SpeedKm/h',\n",
    "       'Max Gust SpeedKm/h',\n",
    "       'Precipitationmm',\n",
    "       'CloudCover',\n",
    "       'WindDirDegrees']"
   ]
  },
  {
   "cell_type": "markdown",
   "metadata": {
    "colab_type": "text",
    "id": "jiFf93CaCN1i"
   },
   "source": [
    "The features are the normalized observations.  We can use them in learning a model to predict weather events."
   ]
  },
  {
   "cell_type": "code",
   "execution_count": 10,
   "metadata": {
    "colab": {
     "base_uri": "https://localhost:8080/",
     "height": 374
    },
    "colab_type": "code",
    "id": "6isMtbP-7nLX",
    "outputId": "8fe8fe0c-7f57-4dbf-dbdc-0bcaa1b9d62d"
   },
   "outputs": [
    {
     "data": {
      "text/html": [
       "<div>\n",
       "<style scoped>\n",
       "    .dataframe tbody tr th:only-of-type {\n",
       "        vertical-align: middle;\n",
       "    }\n",
       "\n",
       "    .dataframe tbody tr th {\n",
       "        vertical-align: top;\n",
       "    }\n",
       "\n",
       "    .dataframe thead th {\n",
       "        text-align: right;\n",
       "    }\n",
       "</style>\n",
       "<table border=\"1\" class=\"dataframe\">\n",
       "  <thead>\n",
       "    <tr style=\"text-align: right;\">\n",
       "      <th></th>\n",
       "      <th>Max TemperatureC</th>\n",
       "      <th>Mean TemperatureC</th>\n",
       "      <th>Min TemperatureC</th>\n",
       "      <th>Dew PointC</th>\n",
       "      <th>MeanDew PointC</th>\n",
       "      <th>Min DewpointC</th>\n",
       "      <th>Max Humidity</th>\n",
       "      <th>Mean Humidity</th>\n",
       "      <th>Min Humidity</th>\n",
       "      <th>Max Sea Level PressurehPa</th>\n",
       "      <th>...</th>\n",
       "      <th>Min Sea Level PressurehPa</th>\n",
       "      <th>Max VisibilityKm</th>\n",
       "      <th>Mean VisibilityKm</th>\n",
       "      <th>Min VisibilitykM</th>\n",
       "      <th>Max Wind SpeedKm/h</th>\n",
       "      <th>Mean Wind SpeedKm/h</th>\n",
       "      <th>Max Gust SpeedKm/h</th>\n",
       "      <th>Precipitationmm</th>\n",
       "      <th>CloudCover</th>\n",
       "      <th>WindDirDegrees</th>\n",
       "    </tr>\n",
       "    <tr>\n",
       "      <th>date</th>\n",
       "      <th></th>\n",
       "      <th></th>\n",
       "      <th></th>\n",
       "      <th></th>\n",
       "      <th></th>\n",
       "      <th></th>\n",
       "      <th></th>\n",
       "      <th></th>\n",
       "      <th></th>\n",
       "      <th></th>\n",
       "      <th></th>\n",
       "      <th></th>\n",
       "      <th></th>\n",
       "      <th></th>\n",
       "      <th></th>\n",
       "      <th></th>\n",
       "      <th></th>\n",
       "      <th></th>\n",
       "      <th></th>\n",
       "      <th></th>\n",
       "      <th></th>\n",
       "    </tr>\n",
       "  </thead>\n",
       "  <tbody>\n",
       "    <tr>\n",
       "      <th>1997-1-1</th>\n",
       "      <td>0.170732</td>\n",
       "      <td>0.200000</td>\n",
       "      <td>0.315789</td>\n",
       "      <td>0.53125</td>\n",
       "      <td>0.580645</td>\n",
       "      <td>0.666667</td>\n",
       "      <td>1.000000</td>\n",
       "      <td>0.941176</td>\n",
       "      <td>0.750000</td>\n",
       "      <td>0.301887</td>\n",
       "      <td>...</td>\n",
       "      <td>0.513158</td>\n",
       "      <td>0.3</td>\n",
       "      <td>0.290323</td>\n",
       "      <td>0.129032</td>\n",
       "      <td>0.071429</td>\n",
       "      <td>0.153846</td>\n",
       "      <td>NaN</td>\n",
       "      <td>0.0</td>\n",
       "      <td>0.750</td>\n",
       "      <td>0.637119</td>\n",
       "    </tr>\n",
       "    <tr>\n",
       "      <th>1997-1-2</th>\n",
       "      <td>0.170732</td>\n",
       "      <td>0.171429</td>\n",
       "      <td>0.263158</td>\n",
       "      <td>0.56250</td>\n",
       "      <td>0.580645</td>\n",
       "      <td>0.611111</td>\n",
       "      <td>1.000000</td>\n",
       "      <td>0.905882</td>\n",
       "      <td>0.697917</td>\n",
       "      <td>0.245283</td>\n",
       "      <td>...</td>\n",
       "      <td>0.421053</td>\n",
       "      <td>0.3</td>\n",
       "      <td>0.290323</td>\n",
       "      <td>0.129032</td>\n",
       "      <td>0.142857</td>\n",
       "      <td>0.205128</td>\n",
       "      <td>0.333333</td>\n",
       "      <td>0.0</td>\n",
       "      <td>0.625</td>\n",
       "      <td>0.398892</td>\n",
       "    </tr>\n",
       "    <tr>\n",
       "      <th>1997-1-3</th>\n",
       "      <td>0.121951</td>\n",
       "      <td>0.171429</td>\n",
       "      <td>0.315789</td>\n",
       "      <td>0.53125</td>\n",
       "      <td>0.516129</td>\n",
       "      <td>0.583333</td>\n",
       "      <td>1.000000</td>\n",
       "      <td>0.823529</td>\n",
       "      <td>0.687500</td>\n",
       "      <td>0.207547</td>\n",
       "      <td>...</td>\n",
       "      <td>0.407895</td>\n",
       "      <td>0.3</td>\n",
       "      <td>0.322581</td>\n",
       "      <td>0.225806</td>\n",
       "      <td>0.148352</td>\n",
       "      <td>0.487179</td>\n",
       "      <td>NaN</td>\n",
       "      <td>0.0</td>\n",
       "      <td>0.750</td>\n",
       "      <td>0.711911</td>\n",
       "    </tr>\n",
       "    <tr>\n",
       "      <th>1997-1-4</th>\n",
       "      <td>0.170732</td>\n",
       "      <td>0.171429</td>\n",
       "      <td>0.236842</td>\n",
       "      <td>0.31250</td>\n",
       "      <td>0.387097</td>\n",
       "      <td>0.500000</td>\n",
       "      <td>0.833333</td>\n",
       "      <td>0.564706</td>\n",
       "      <td>0.468750</td>\n",
       "      <td>0.339623</td>\n",
       "      <td>...</td>\n",
       "      <td>0.526316</td>\n",
       "      <td>0.3</td>\n",
       "      <td>0.322581</td>\n",
       "      <td>0.322581</td>\n",
       "      <td>0.148352</td>\n",
       "      <td>0.487179</td>\n",
       "      <td>0.250000</td>\n",
       "      <td>0.0</td>\n",
       "      <td>0.250</td>\n",
       "      <td>0.789474</td>\n",
       "    </tr>\n",
       "    <tr>\n",
       "      <th>1997-1-5</th>\n",
       "      <td>0.048780</td>\n",
       "      <td>0.085714</td>\n",
       "      <td>0.236842</td>\n",
       "      <td>0.43750</td>\n",
       "      <td>0.483871</td>\n",
       "      <td>0.527778</td>\n",
       "      <td>1.000000</td>\n",
       "      <td>0.941176</td>\n",
       "      <td>0.854167</td>\n",
       "      <td>0.339623</td>\n",
       "      <td>...</td>\n",
       "      <td>0.526316</td>\n",
       "      <td>0.3</td>\n",
       "      <td>0.161290</td>\n",
       "      <td>0.032258</td>\n",
       "      <td>0.076923</td>\n",
       "      <td>0.153846</td>\n",
       "      <td>NaN</td>\n",
       "      <td>0.0</td>\n",
       "      <td>0.875</td>\n",
       "      <td>0.008310</td>\n",
       "    </tr>\n",
       "  </tbody>\n",
       "</table>\n",
       "<p>5 rows × 21 columns</p>\n",
       "</div>"
      ],
      "text/plain": [
       "          Max TemperatureC  Mean TemperatureC  Min TemperatureC  Dew PointC  \\\n",
       "date                                                                          \n",
       "1997-1-1          0.170732           0.200000          0.315789     0.53125   \n",
       "1997-1-2          0.170732           0.171429          0.263158     0.56250   \n",
       "1997-1-3          0.121951           0.171429          0.315789     0.53125   \n",
       "1997-1-4          0.170732           0.171429          0.236842     0.31250   \n",
       "1997-1-5          0.048780           0.085714          0.236842     0.43750   \n",
       "\n",
       "          MeanDew PointC  Min DewpointC  Max Humidity  Mean Humidity  \\\n",
       "date                                                                   \n",
       "1997-1-1        0.580645       0.666667      1.000000       0.941176   \n",
       "1997-1-2        0.580645       0.611111      1.000000       0.905882   \n",
       "1997-1-3        0.516129       0.583333      1.000000       0.823529   \n",
       "1997-1-4        0.387097       0.500000      0.833333       0.564706   \n",
       "1997-1-5        0.483871       0.527778      1.000000       0.941176   \n",
       "\n",
       "          Min Humidity  Max Sea Level PressurehPa  ...  \\\n",
       "date                                               ...   \n",
       "1997-1-1      0.750000                   0.301887  ...   \n",
       "1997-1-2      0.697917                   0.245283  ...   \n",
       "1997-1-3      0.687500                   0.207547  ...   \n",
       "1997-1-4      0.468750                   0.339623  ...   \n",
       "1997-1-5      0.854167                   0.339623  ...   \n",
       "\n",
       "          Min Sea Level PressurehPa  Max VisibilityKm  Mean VisibilityKm  \\\n",
       "date                                                                       \n",
       "1997-1-1                   0.513158               0.3           0.290323   \n",
       "1997-1-2                   0.421053               0.3           0.290323   \n",
       "1997-1-3                   0.407895               0.3           0.322581   \n",
       "1997-1-4                   0.526316               0.3           0.322581   \n",
       "1997-1-5                   0.526316               0.3           0.161290   \n",
       "\n",
       "          Min VisibilitykM  Max Wind SpeedKm/h  Mean Wind SpeedKm/h  \\\n",
       "date                                                                  \n",
       "1997-1-1          0.129032            0.071429             0.153846   \n",
       "1997-1-2          0.129032            0.142857             0.205128   \n",
       "1997-1-3          0.225806            0.148352             0.487179   \n",
       "1997-1-4          0.322581            0.148352             0.487179   \n",
       "1997-1-5          0.032258            0.076923             0.153846   \n",
       "\n",
       "          Max Gust SpeedKm/h  Precipitationmm  CloudCover  WindDirDegrees  \n",
       "date                                                                       \n",
       "1997-1-1                 NaN              0.0       0.750        0.637119  \n",
       "1997-1-2            0.333333              0.0       0.625        0.398892  \n",
       "1997-1-3                 NaN              0.0       0.750        0.711911  \n",
       "1997-1-4            0.250000              0.0       0.250        0.789474  \n",
       "1997-1-5                 NaN              0.0       0.875        0.008310  \n",
       "\n",
       "[5 rows x 21 columns]"
      ]
     },
     "execution_count": 10,
     "metadata": {},
     "output_type": "execute_result"
    }
   ],
   "source": [
    "features = get_normalized_features(df, numeric_columns)\n",
    "features.head()"
   ]
  },
  {
   "cell_type": "code",
   "execution_count": 11,
   "metadata": {
    "colab": {
     "base_uri": "https://localhost:8080/",
     "height": 34
    },
    "colab_type": "code",
    "id": "W3RTf2Yt8EB-",
    "outputId": "9644aa70-e822-4cfa-a9fd-674c0004e5d8"
   },
   "outputs": [
    {
     "name": "stdout",
     "output_type": "stream",
     "text": [
      "Max TemperatureC                 2\n",
      "Mean TemperatureC                3\n",
      "Min TemperatureC                 2\n",
      "Dew PointC                       2\n",
      "MeanDew PointC                   2\n",
      "Min DewpointC                    2\n",
      "Max Humidity                     2\n",
      "Mean Humidity                    2\n",
      "Min Humidity                     2\n",
      "Max Sea Level PressurehPa        0\n",
      "Mean Sea Level PressurehPa       0\n",
      "Min Sea Level PressurehPa        0\n",
      "Max VisibilityKm               940\n",
      "Mean VisibilityKm              940\n",
      "Min VisibilitykM               940\n",
      "Max Wind SpeedKm/h               0\n",
      "Mean Wind SpeedKm/h              0\n",
      "Max Gust SpeedKm/h            3306\n",
      "Precipitationmm                  0\n",
      "CloudCover                    1372\n",
      "WindDirDegrees                   0\n",
      "dtype: int64\n"
     ]
    },
    {
     "data": {
      "text/plain": [
       "(6812, 21)"
      ]
     },
     "execution_count": 11,
     "metadata": {},
     "output_type": "execute_result"
    }
   ],
   "source": [
    "print(features.isnull().sum())\n",
    "features.shape\n"
   ]
  },
  {
   "cell_type": "code",
   "execution_count": 12,
   "metadata": {},
   "outputs": [
    {
     "name": "stdout",
     "output_type": "stream",
     "text": [
      "Max TemperatureC                 0\n",
      "Mean TemperatureC                0\n",
      "Min TemperatureC                 0\n",
      "Dew PointC                       0\n",
      "MeanDew PointC                   0\n",
      "Min DewpointC                    0\n",
      "Max Humidity                     0\n",
      "Mean Humidity                    0\n",
      "Min Humidity                     0\n",
      "Max Sea Level PressurehPa        0\n",
      "Mean Sea Level PressurehPa       0\n",
      "Min Sea Level PressurehPa        0\n",
      "Max VisibilityKm               937\n",
      "Mean VisibilityKm              937\n",
      "Min VisibilitykM               937\n",
      "Max Wind SpeedKm/h               0\n",
      "Mean Wind SpeedKm/h              0\n",
      "Max Gust SpeedKm/h            3303\n",
      "Precipitationmm                  0\n",
      "CloudCover                    1369\n",
      "WindDirDegrees                   0\n",
      "dtype: int64\n"
     ]
    },
    {
     "name": "stderr",
     "output_type": "stream",
     "text": [
      "/home/mushy/anaconda3/envs/retnet2/lib/python3.6/site-packages/ipykernel_launcher.py:4: UserWarning: Boolean Series key will be reindexed to match DataFrame index.\n",
      "  after removing the cwd from sys.path.\n"
     ]
    },
    {
     "data": {
      "text/plain": [
       "(6809, 16)"
      ]
     },
     "execution_count": 12,
     "metadata": {},
     "output_type": "execute_result"
    }
   ],
   "source": [
    "drop_col = [] \n",
    "for col in numeric_columns:\n",
    "    if(features[col].isnull().sum()<100):\n",
    "        features= features[np.isfinite(df[col])]\n",
    "\n",
    "    else:\n",
    "        drop_col.append(col.strip())\n",
    "        \n",
    "print(features.isnull().sum())\n",
    "features = features.dropna(axis=1,how='any')\n",
    "features.shape "
   ]
  },
  {
   "cell_type": "markdown",
   "metadata": {
    "colab_type": "text",
    "id": "xbMRqEh5Ck41"
   },
   "source": [
    "\n",
    "# Building Output"
   ]
  },
  {
   "cell_type": "markdown",
   "metadata": {
    "colab_type": "text",
    "id": "O0R9jBXtCzkz"
   },
   "source": [
    "The targets are 0/1 columns for each of the "
   ]
  },
  {
   "cell_type": "code",
   "execution_count": 13,
   "metadata": {
    "colab": {
     "base_uri": "https://localhost:8080/",
     "height": 235
    },
    "colab_type": "code",
    "id": "AaYdIfj48S80",
    "outputId": "dc39fdad-928d-4d2f-9fe4-8db5efac26ed"
   },
   "outputs": [
    {
     "data": {
      "text/html": [
       "<div>\n",
       "<style scoped>\n",
       "    .dataframe tbody tr th:only-of-type {\n",
       "        vertical-align: middle;\n",
       "    }\n",
       "\n",
       "    .dataframe tbody tr th {\n",
       "        vertical-align: top;\n",
       "    }\n",
       "\n",
       "    .dataframe thead th {\n",
       "        text-align: right;\n",
       "    }\n",
       "</style>\n",
       "<table border=\"1\" class=\"dataframe\">\n",
       "  <thead>\n",
       "    <tr style=\"text-align: right;\">\n",
       "      <th></th>\n",
       "      <th>Rain</th>\n",
       "      <th>Snow</th>\n",
       "      <th>Fog</th>\n",
       "      <th>Thunderstorm</th>\n",
       "      <th>Hail</th>\n",
       "      <th>Tornado</th>\n",
       "      <th>NoEvent</th>\n",
       "    </tr>\n",
       "    <tr>\n",
       "      <th>date</th>\n",
       "      <th></th>\n",
       "      <th></th>\n",
       "      <th></th>\n",
       "      <th></th>\n",
       "      <th></th>\n",
       "      <th></th>\n",
       "      <th></th>\n",
       "    </tr>\n",
       "  </thead>\n",
       "  <tbody>\n",
       "    <tr>\n",
       "      <th>1997-1-1</th>\n",
       "      <td>0</td>\n",
       "      <td>0</td>\n",
       "      <td>0</td>\n",
       "      <td>0</td>\n",
       "      <td>0</td>\n",
       "      <td>0</td>\n",
       "      <td>1</td>\n",
       "    </tr>\n",
       "    <tr>\n",
       "      <th>1997-1-2</th>\n",
       "      <td>1</td>\n",
       "      <td>0</td>\n",
       "      <td>0</td>\n",
       "      <td>0</td>\n",
       "      <td>0</td>\n",
       "      <td>0</td>\n",
       "      <td>0</td>\n",
       "    </tr>\n",
       "    <tr>\n",
       "      <th>1997-1-3</th>\n",
       "      <td>1</td>\n",
       "      <td>1</td>\n",
       "      <td>0</td>\n",
       "      <td>0</td>\n",
       "      <td>0</td>\n",
       "      <td>0</td>\n",
       "      <td>0</td>\n",
       "    </tr>\n",
       "    <tr>\n",
       "      <th>1997-1-4</th>\n",
       "      <td>0</td>\n",
       "      <td>0</td>\n",
       "      <td>0</td>\n",
       "      <td>0</td>\n",
       "      <td>0</td>\n",
       "      <td>0</td>\n",
       "      <td>1</td>\n",
       "    </tr>\n",
       "    <tr>\n",
       "      <th>1997-1-5</th>\n",
       "      <td>0</td>\n",
       "      <td>1</td>\n",
       "      <td>0</td>\n",
       "      <td>0</td>\n",
       "      <td>0</td>\n",
       "      <td>0</td>\n",
       "      <td>0</td>\n",
       "    </tr>\n",
       "  </tbody>\n",
       "</table>\n",
       "</div>"
      ],
      "text/plain": [
       "          Rain  Snow  Fog  Thunderstorm  Hail  Tornado  NoEvent\n",
       "date                                                           \n",
       "1997-1-1     0     0    0             0     0        0        1\n",
       "1997-1-2     1     0    0             0     0        0        0\n",
       "1997-1-3     1     1    0             0     0        0        0\n",
       "1997-1-4     0     0    0             0     0        0        1\n",
       "1997-1-5     0     1    0             0     0        0        0"
      ]
     },
     "execution_count": 13,
     "metadata": {},
     "output_type": "execute_result"
    }
   ],
   "source": [
    "targets = df[event_columns].applymap(lambda x: 1 if x else 0)\n",
    "targets.head()"
   ]
  },
  {
   "cell_type": "markdown",
   "metadata": {
    "colab_type": "text",
    "id": "79sdyPr-Gd4V"
   },
   "source": [
    "# Building the training and test data\n",
    "\n",
    "We will split the data as follows:\n",
    "\n",
    "- Training: 1997 - 2007\n",
    "- Testing: 2007 - 2015"
   ]
  },
  {
   "cell_type": "code",
   "execution_count": 14,
   "metadata": {
    "colab": {},
    "colab_type": "code",
    "id": "I04wZvc0Gn1T"
   },
   "outputs": [],
   "source": [
    "x_train = features.loc[:'2007-12-31']\n",
    "x_test = features.loc['2008-1-1':]\n",
    "\n",
    "y_train = targets.loc[x_train.index]\n",
    "y_test = targets.loc[x_test.index]"
   ]
  },
  {
   "cell_type": "code",
   "execution_count": 15,
   "metadata": {
    "colab": {
     "base_uri": "https://localhost:8080/",
     "height": 34
    },
    "colab_type": "code",
    "id": "pGZ8tJbQG-WW",
    "outputId": "5a8a5ca0-59c8-48dc-a048-973664f2bc46"
   },
   "outputs": [
    {
     "name": "stdout",
     "output_type": "stream",
     "text": [
      "(3887, 16)\n"
     ]
    },
    {
     "data": {
      "text/html": [
       "<div>\n",
       "<style scoped>\n",
       "    .dataframe tbody tr th:only-of-type {\n",
       "        vertical-align: middle;\n",
       "    }\n",
       "\n",
       "    .dataframe tbody tr th {\n",
       "        vertical-align: top;\n",
       "    }\n",
       "\n",
       "    .dataframe thead th {\n",
       "        text-align: right;\n",
       "    }\n",
       "</style>\n",
       "<table border=\"1\" class=\"dataframe\">\n",
       "  <thead>\n",
       "    <tr style=\"text-align: right;\">\n",
       "      <th></th>\n",
       "      <th>Max TemperatureC</th>\n",
       "      <th>Mean TemperatureC</th>\n",
       "      <th>Min TemperatureC</th>\n",
       "      <th>Dew PointC</th>\n",
       "      <th>MeanDew PointC</th>\n",
       "      <th>Min DewpointC</th>\n",
       "      <th>Max Humidity</th>\n",
       "      <th>Mean Humidity</th>\n",
       "      <th>Min Humidity</th>\n",
       "      <th>Max Sea Level PressurehPa</th>\n",
       "      <th>Mean Sea Level PressurehPa</th>\n",
       "      <th>Min Sea Level PressurehPa</th>\n",
       "      <th>Max Wind SpeedKm/h</th>\n",
       "      <th>Mean Wind SpeedKm/h</th>\n",
       "      <th>Precipitationmm</th>\n",
       "      <th>WindDirDegrees</th>\n",
       "    </tr>\n",
       "    <tr>\n",
       "      <th>date</th>\n",
       "      <th></th>\n",
       "      <th></th>\n",
       "      <th></th>\n",
       "      <th></th>\n",
       "      <th></th>\n",
       "      <th></th>\n",
       "      <th></th>\n",
       "      <th></th>\n",
       "      <th></th>\n",
       "      <th></th>\n",
       "      <th></th>\n",
       "      <th></th>\n",
       "      <th></th>\n",
       "      <th></th>\n",
       "      <th></th>\n",
       "      <th></th>\n",
       "    </tr>\n",
       "  </thead>\n",
       "  <tbody>\n",
       "    <tr>\n",
       "      <th>1997-1-1</th>\n",
       "      <td>0.170732</td>\n",
       "      <td>0.200000</td>\n",
       "      <td>0.315789</td>\n",
       "      <td>0.53125</td>\n",
       "      <td>0.580645</td>\n",
       "      <td>0.666667</td>\n",
       "      <td>1.000000</td>\n",
       "      <td>0.941176</td>\n",
       "      <td>0.750000</td>\n",
       "      <td>0.301887</td>\n",
       "      <td>0.385965</td>\n",
       "      <td>0.513158</td>\n",
       "      <td>0.071429</td>\n",
       "      <td>0.153846</td>\n",
       "      <td>0.0</td>\n",
       "      <td>0.637119</td>\n",
       "    </tr>\n",
       "    <tr>\n",
       "      <th>1997-1-2</th>\n",
       "      <td>0.170732</td>\n",
       "      <td>0.171429</td>\n",
       "      <td>0.263158</td>\n",
       "      <td>0.56250</td>\n",
       "      <td>0.580645</td>\n",
       "      <td>0.611111</td>\n",
       "      <td>1.000000</td>\n",
       "      <td>0.905882</td>\n",
       "      <td>0.697917</td>\n",
       "      <td>0.245283</td>\n",
       "      <td>0.298246</td>\n",
       "      <td>0.421053</td>\n",
       "      <td>0.142857</td>\n",
       "      <td>0.205128</td>\n",
       "      <td>0.0</td>\n",
       "      <td>0.398892</td>\n",
       "    </tr>\n",
       "    <tr>\n",
       "      <th>1997-1-3</th>\n",
       "      <td>0.121951</td>\n",
       "      <td>0.171429</td>\n",
       "      <td>0.315789</td>\n",
       "      <td>0.53125</td>\n",
       "      <td>0.516129</td>\n",
       "      <td>0.583333</td>\n",
       "      <td>1.000000</td>\n",
       "      <td>0.823529</td>\n",
       "      <td>0.687500</td>\n",
       "      <td>0.207547</td>\n",
       "      <td>0.228070</td>\n",
       "      <td>0.407895</td>\n",
       "      <td>0.148352</td>\n",
       "      <td>0.487179</td>\n",
       "      <td>0.0</td>\n",
       "      <td>0.711911</td>\n",
       "    </tr>\n",
       "    <tr>\n",
       "      <th>1997-1-4</th>\n",
       "      <td>0.170732</td>\n",
       "      <td>0.171429</td>\n",
       "      <td>0.236842</td>\n",
       "      <td>0.31250</td>\n",
       "      <td>0.387097</td>\n",
       "      <td>0.500000</td>\n",
       "      <td>0.833333</td>\n",
       "      <td>0.564706</td>\n",
       "      <td>0.468750</td>\n",
       "      <td>0.339623</td>\n",
       "      <td>0.421053</td>\n",
       "      <td>0.526316</td>\n",
       "      <td>0.148352</td>\n",
       "      <td>0.487179</td>\n",
       "      <td>0.0</td>\n",
       "      <td>0.789474</td>\n",
       "    </tr>\n",
       "    <tr>\n",
       "      <th>1997-1-5</th>\n",
       "      <td>0.048780</td>\n",
       "      <td>0.085714</td>\n",
       "      <td>0.236842</td>\n",
       "      <td>0.43750</td>\n",
       "      <td>0.483871</td>\n",
       "      <td>0.527778</td>\n",
       "      <td>1.000000</td>\n",
       "      <td>0.941176</td>\n",
       "      <td>0.854167</td>\n",
       "      <td>0.339623</td>\n",
       "      <td>0.385965</td>\n",
       "      <td>0.526316</td>\n",
       "      <td>0.076923</td>\n",
       "      <td>0.153846</td>\n",
       "      <td>0.0</td>\n",
       "      <td>0.008310</td>\n",
       "    </tr>\n",
       "    <tr>\n",
       "      <th>1997-1-6</th>\n",
       "      <td>0.170732</td>\n",
       "      <td>0.171429</td>\n",
       "      <td>0.289474</td>\n",
       "      <td>0.43750</td>\n",
       "      <td>0.451613</td>\n",
       "      <td>0.527778</td>\n",
       "      <td>1.000000</td>\n",
       "      <td>0.788235</td>\n",
       "      <td>0.552083</td>\n",
       "      <td>0.377358</td>\n",
       "      <td>0.421053</td>\n",
       "      <td>0.565789</td>\n",
       "      <td>0.060440</td>\n",
       "      <td>0.128205</td>\n",
       "      <td>0.0</td>\n",
       "      <td>0.180055</td>\n",
       "    </tr>\n",
       "    <tr>\n",
       "      <th>1997-1-7</th>\n",
       "      <td>0.048780</td>\n",
       "      <td>0.085714</td>\n",
       "      <td>0.210526</td>\n",
       "      <td>0.40625</td>\n",
       "      <td>0.451613</td>\n",
       "      <td>0.527778</td>\n",
       "      <td>1.000000</td>\n",
       "      <td>0.917647</td>\n",
       "      <td>0.739583</td>\n",
       "      <td>0.415094</td>\n",
       "      <td>0.491228</td>\n",
       "      <td>0.578947</td>\n",
       "      <td>0.032967</td>\n",
       "      <td>0.051282</td>\n",
       "      <td>0.0</td>\n",
       "      <td>0.121884</td>\n",
       "    </tr>\n",
       "    <tr>\n",
       "      <th>1997-1-8</th>\n",
       "      <td>0.195122</td>\n",
       "      <td>0.200000</td>\n",
       "      <td>0.289474</td>\n",
       "      <td>0.59375</td>\n",
       "      <td>0.612903</td>\n",
       "      <td>0.638889</td>\n",
       "      <td>1.000000</td>\n",
       "      <td>0.952941</td>\n",
       "      <td>0.864583</td>\n",
       "      <td>0.396226</td>\n",
       "      <td>0.333333</td>\n",
       "      <td>0.500000</td>\n",
       "      <td>0.142857</td>\n",
       "      <td>0.205128</td>\n",
       "      <td>0.0</td>\n",
       "      <td>0.759003</td>\n",
       "    </tr>\n",
       "    <tr>\n",
       "      <th>1997-1-9</th>\n",
       "      <td>0.292683</td>\n",
       "      <td>0.371429</td>\n",
       "      <td>0.473684</td>\n",
       "      <td>0.62500</td>\n",
       "      <td>0.580645</td>\n",
       "      <td>0.611111</td>\n",
       "      <td>1.000000</td>\n",
       "      <td>0.588235</td>\n",
       "      <td>0.416667</td>\n",
       "      <td>0.396226</td>\n",
       "      <td>0.385965</td>\n",
       "      <td>0.500000</td>\n",
       "      <td>0.263736</td>\n",
       "      <td>0.589744</td>\n",
       "      <td>0.0</td>\n",
       "      <td>0.761773</td>\n",
       "    </tr>\n",
       "    <tr>\n",
       "      <th>1997-1-10</th>\n",
       "      <td>0.317073</td>\n",
       "      <td>0.314286</td>\n",
       "      <td>0.342105</td>\n",
       "      <td>0.62500</td>\n",
       "      <td>0.645161</td>\n",
       "      <td>0.638889</td>\n",
       "      <td>0.916667</td>\n",
       "      <td>0.800000</td>\n",
       "      <td>0.614583</td>\n",
       "      <td>0.509434</td>\n",
       "      <td>0.561404</td>\n",
       "      <td>0.671053</td>\n",
       "      <td>0.071429</td>\n",
       "      <td>0.128205</td>\n",
       "      <td>0.0</td>\n",
       "      <td>0.279778</td>\n",
       "    </tr>\n",
       "  </tbody>\n",
       "</table>\n",
       "</div>"
      ],
      "text/plain": [
       "           Max TemperatureC  Mean TemperatureC  Min TemperatureC  Dew PointC  \\\n",
       "date                                                                           \n",
       "1997-1-1           0.170732           0.200000          0.315789     0.53125   \n",
       "1997-1-2           0.170732           0.171429          0.263158     0.56250   \n",
       "1997-1-3           0.121951           0.171429          0.315789     0.53125   \n",
       "1997-1-4           0.170732           0.171429          0.236842     0.31250   \n",
       "1997-1-5           0.048780           0.085714          0.236842     0.43750   \n",
       "1997-1-6           0.170732           0.171429          0.289474     0.43750   \n",
       "1997-1-7           0.048780           0.085714          0.210526     0.40625   \n",
       "1997-1-8           0.195122           0.200000          0.289474     0.59375   \n",
       "1997-1-9           0.292683           0.371429          0.473684     0.62500   \n",
       "1997-1-10          0.317073           0.314286          0.342105     0.62500   \n",
       "\n",
       "           MeanDew PointC  Min DewpointC  Max Humidity  Mean Humidity  \\\n",
       "date                                                                    \n",
       "1997-1-1         0.580645       0.666667      1.000000       0.941176   \n",
       "1997-1-2         0.580645       0.611111      1.000000       0.905882   \n",
       "1997-1-3         0.516129       0.583333      1.000000       0.823529   \n",
       "1997-1-4         0.387097       0.500000      0.833333       0.564706   \n",
       "1997-1-5         0.483871       0.527778      1.000000       0.941176   \n",
       "1997-1-6         0.451613       0.527778      1.000000       0.788235   \n",
       "1997-1-7         0.451613       0.527778      1.000000       0.917647   \n",
       "1997-1-8         0.612903       0.638889      1.000000       0.952941   \n",
       "1997-1-9         0.580645       0.611111      1.000000       0.588235   \n",
       "1997-1-10        0.645161       0.638889      0.916667       0.800000   \n",
       "\n",
       "           Min Humidity  Max Sea Level PressurehPa  \\\n",
       "date                                                 \n",
       "1997-1-1       0.750000                   0.301887   \n",
       "1997-1-2       0.697917                   0.245283   \n",
       "1997-1-3       0.687500                   0.207547   \n",
       "1997-1-4       0.468750                   0.339623   \n",
       "1997-1-5       0.854167                   0.339623   \n",
       "1997-1-6       0.552083                   0.377358   \n",
       "1997-1-7       0.739583                   0.415094   \n",
       "1997-1-8       0.864583                   0.396226   \n",
       "1997-1-9       0.416667                   0.396226   \n",
       "1997-1-10      0.614583                   0.509434   \n",
       "\n",
       "           Mean Sea Level PressurehPa  Min Sea Level PressurehPa  \\\n",
       "date                                                               \n",
       "1997-1-1                     0.385965                   0.513158   \n",
       "1997-1-2                     0.298246                   0.421053   \n",
       "1997-1-3                     0.228070                   0.407895   \n",
       "1997-1-4                     0.421053                   0.526316   \n",
       "1997-1-5                     0.385965                   0.526316   \n",
       "1997-1-6                     0.421053                   0.565789   \n",
       "1997-1-7                     0.491228                   0.578947   \n",
       "1997-1-8                     0.333333                   0.500000   \n",
       "1997-1-9                     0.385965                   0.500000   \n",
       "1997-1-10                    0.561404                   0.671053   \n",
       "\n",
       "           Max Wind SpeedKm/h  Mean Wind SpeedKm/h  Precipitationmm  \\\n",
       "date                                                                  \n",
       "1997-1-1             0.071429             0.153846              0.0   \n",
       "1997-1-2             0.142857             0.205128              0.0   \n",
       "1997-1-3             0.148352             0.487179              0.0   \n",
       "1997-1-4             0.148352             0.487179              0.0   \n",
       "1997-1-5             0.076923             0.153846              0.0   \n",
       "1997-1-6             0.060440             0.128205              0.0   \n",
       "1997-1-7             0.032967             0.051282              0.0   \n",
       "1997-1-8             0.142857             0.205128              0.0   \n",
       "1997-1-9             0.263736             0.589744              0.0   \n",
       "1997-1-10            0.071429             0.128205              0.0   \n",
       "\n",
       "           WindDirDegrees  \n",
       "date                       \n",
       "1997-1-1         0.637119  \n",
       "1997-1-2         0.398892  \n",
       "1997-1-3         0.711911  \n",
       "1997-1-4         0.789474  \n",
       "1997-1-5         0.008310  \n",
       "1997-1-6         0.180055  \n",
       "1997-1-7         0.121884  \n",
       "1997-1-8         0.759003  \n",
       "1997-1-9         0.761773  \n",
       "1997-1-10        0.279778  "
      ]
     },
     "execution_count": 15,
     "metadata": {},
     "output_type": "execute_result"
    }
   ],
   "source": [
    "x_train.shape, x_test.shape\n",
    "print(x_train.shape)\n",
    "x_train.head(10)"
   ]
  },
  {
   "cell_type": "code",
   "execution_count": 16,
   "metadata": {
    "colab": {
     "base_uri": "https://localhost:8080/",
     "height": 235
    },
    "colab_type": "code",
    "id": "VxA1-9LoG_tl",
    "outputId": "e961a87c-9b44-443f-be48-d550ef667d86"
   },
   "outputs": [
    {
     "data": {
      "text/html": [
       "<div>\n",
       "<style scoped>\n",
       "    .dataframe tbody tr th:only-of-type {\n",
       "        vertical-align: middle;\n",
       "    }\n",
       "\n",
       "    .dataframe tbody tr th {\n",
       "        vertical-align: top;\n",
       "    }\n",
       "\n",
       "    .dataframe thead th {\n",
       "        text-align: right;\n",
       "    }\n",
       "</style>\n",
       "<table border=\"1\" class=\"dataframe\">\n",
       "  <thead>\n",
       "    <tr style=\"text-align: right;\">\n",
       "      <th></th>\n",
       "      <th>Rain</th>\n",
       "      <th>Snow</th>\n",
       "      <th>Fog</th>\n",
       "      <th>Thunderstorm</th>\n",
       "      <th>Hail</th>\n",
       "      <th>Tornado</th>\n",
       "      <th>NoEvent</th>\n",
       "    </tr>\n",
       "    <tr>\n",
       "      <th>date</th>\n",
       "      <th></th>\n",
       "      <th></th>\n",
       "      <th></th>\n",
       "      <th></th>\n",
       "      <th></th>\n",
       "      <th></th>\n",
       "      <th></th>\n",
       "    </tr>\n",
       "  </thead>\n",
       "  <tbody>\n",
       "    <tr>\n",
       "      <th>2008-1-1</th>\n",
       "      <td>0</td>\n",
       "      <td>0</td>\n",
       "      <td>0</td>\n",
       "      <td>0</td>\n",
       "      <td>0</td>\n",
       "      <td>0</td>\n",
       "      <td>1</td>\n",
       "    </tr>\n",
       "    <tr>\n",
       "      <th>2008-1-2</th>\n",
       "      <td>1</td>\n",
       "      <td>0</td>\n",
       "      <td>0</td>\n",
       "      <td>0</td>\n",
       "      <td>0</td>\n",
       "      <td>0</td>\n",
       "      <td>0</td>\n",
       "    </tr>\n",
       "    <tr>\n",
       "      <th>2008-1-3</th>\n",
       "      <td>1</td>\n",
       "      <td>0</td>\n",
       "      <td>0</td>\n",
       "      <td>0</td>\n",
       "      <td>0</td>\n",
       "      <td>0</td>\n",
       "      <td>0</td>\n",
       "    </tr>\n",
       "    <tr>\n",
       "      <th>2008-1-4</th>\n",
       "      <td>0</td>\n",
       "      <td>0</td>\n",
       "      <td>0</td>\n",
       "      <td>0</td>\n",
       "      <td>0</td>\n",
       "      <td>0</td>\n",
       "      <td>1</td>\n",
       "    </tr>\n",
       "    <tr>\n",
       "      <th>2008-1-5</th>\n",
       "      <td>0</td>\n",
       "      <td>0</td>\n",
       "      <td>0</td>\n",
       "      <td>0</td>\n",
       "      <td>0</td>\n",
       "      <td>0</td>\n",
       "      <td>1</td>\n",
       "    </tr>\n",
       "  </tbody>\n",
       "</table>\n",
       "</div>"
      ],
      "text/plain": [
       "          Rain  Snow  Fog  Thunderstorm  Hail  Tornado  NoEvent\n",
       "date                                                           \n",
       "2008-1-1     0     0    0             0     0        0        1\n",
       "2008-1-2     1     0    0             0     0        0        0\n",
       "2008-1-3     1     0    0             0     0        0        0\n",
       "2008-1-4     0     0    0             0     0        0        1\n",
       "2008-1-5     0     0    0             0     0        0        1"
      ]
     },
     "execution_count": 16,
     "metadata": {},
     "output_type": "execute_result"
    }
   ],
   "source": [
    "y_test.head()"
   ]
  },
  {
   "cell_type": "code",
   "execution_count": 17,
   "metadata": {},
   "outputs": [
    {
     "data": {
      "text/plain": [
       "Rain             820\n",
       "Snow              23\n",
       "Fog              181\n",
       "Thunderstorm     189\n",
       "Hail               2\n",
       "Tornado            1\n",
       "NoEvent         2878\n",
       "dtype: int64"
      ]
     },
     "execution_count": 17,
     "metadata": {},
     "output_type": "execute_result"
    }
   ],
   "source": [
    "y_train.sum()"
   ]
  },
  {
   "cell_type": "code",
   "execution_count": 18,
   "metadata": {
    "colab": {
     "base_uri": "https://localhost:8080/",
     "height": 153
    },
    "colab_type": "code",
    "id": "2LIaIIKNHgyS",
    "outputId": "3a9495fc-143b-4ac2-805c-0060e5eda6cb"
   },
   "outputs": [
    {
     "data": {
      "text/plain": [
       "TensorShape([3887, 7])"
      ]
     },
     "execution_count": 18,
     "metadata": {},
     "output_type": "execute_result"
    }
   ],
   "source": [
    "y_train.sum()\n",
    "y_train = tf.convert_to_tensor(np.array(y_train))\n",
    "y_train.shape\n",
    "\n"
   ]
  },
  {
   "cell_type": "markdown",
   "metadata": {
    "colab_type": "text",
    "id": "Sz6i_Qhj8pom"
   },
   "source": [
    "# ✎ Build model(s)\n",
    "\n",
    "You need to build a _Keras_ model that predicts the weather events.\n",
    "\n",
    "The only restriction is that you must **NOT** use the dataframes `x_test`, `y_test` during training.\n",
    "\n",
    "**Note**:\n",
    "\n",
    "You can build one or more models (for example, one model for each and different weather event)."
   ]
  },
  {
   "cell_type": "markdown",
   "metadata": {
    "colab_type": "text",
    "id": "fVyer9iUH57W"
   },
   "source": [
    "You need to design the architecture and the loss function."
   ]
  },
  {
   "cell_type": "code",
   "execution_count": 1,
   "metadata": {
    "colab": {},
    "colab_type": "code",
    "id": "olqPE0hZ9f_B"
   },
   "outputs": [
    {
     "name": "stderr",
     "output_type": "stream",
     "text": [
      "Using TensorFlow backend.\n"
     ]
    },
    {
     "ename": "NameError",
     "evalue": "name 'Sequential' is not defined",
     "output_type": "error",
     "traceback": [
      "\u001b[0;31m---------------------------------------------------------------------------\u001b[0m",
      "\u001b[0;31mNameError\u001b[0m                                 Traceback (most recent call last)",
      "\u001b[0;32m<ipython-input-1-399ee4d8f8d6>\u001b[0m in \u001b[0;36m<module>\u001b[0;34m\u001b[0m\n\u001b[1;32m      2\u001b[0m \u001b[0;34m\u001b[0m\u001b[0m\n\u001b[1;32m      3\u001b[0m \u001b[0;34m\u001b[0m\u001b[0m\n\u001b[0;32m----> 4\u001b[0;31m model = Sequential([\n\u001b[0m\u001b[1;32m      5\u001b[0m     \u001b[0mInput\u001b[0m\u001b[0;34m(\u001b[0m\u001b[0;34m(\u001b[0m\u001b[0;36m16\u001b[0m\u001b[0;34m,\u001b[0m\u001b[0;34m)\u001b[0m\u001b[0;34m)\u001b[0m\u001b[0;34m,\u001b[0m\u001b[0;34m\u001b[0m\u001b[0;34m\u001b[0m\u001b[0m\n\u001b[1;32m      6\u001b[0m     \u001b[0mDense\u001b[0m\u001b[0;34m(\u001b[0m\u001b[0;36m100\u001b[0m\u001b[0;34m,\u001b[0m\u001b[0mactivation\u001b[0m\u001b[0;34m=\u001b[0m\u001b[0;34m'relu'\u001b[0m\u001b[0;34m,\u001b[0m\u001b[0mkernel_regularizer\u001b[0m\u001b[0;34m=\u001b[0m \u001b[0ml2\u001b[0m\u001b[0;34m(\u001b[0m\u001b[0;36m0.1\u001b[0m\u001b[0;34m)\u001b[0m\u001b[0;34m)\u001b[0m\u001b[0;34m,\u001b[0m\u001b[0;34m\u001b[0m\u001b[0;34m\u001b[0m\u001b[0m\n",
      "\u001b[0;31mNameError\u001b[0m: name 'Sequential' is not defined"
     ]
    }
   ],
   "source": [
    "from keras.regularizers import l2\n",
    "\n",
    "\n",
    "model = Sequential([\n",
    "    Input((16,)),\n",
    "    Dense(100,activation='relu',kernel_regularizer= l2(0.1)),\n",
    "    Dense(200,activation='relu'),\n",
    "    Dropout(0.1),\n",
    "    Dense(10,activation='relu'),\n",
    "    Dense(1,activation=\"sigmoid\")\n",
    "])\n",
    "\n",
    "model.compile(loss=tf.losses.sparse_categorical_crossentropy,optimizer='adam',metrics=['acc'])\n",
    "model.summary()"
   ]
  },
  {
   "cell_type": "code",
   "execution_count": 20,
   "metadata": {},
   "outputs": [
    {
     "data": {
      "text/plain": [
       "TensorShape([3887, 16])"
      ]
     },
     "execution_count": 20,
     "metadata": {},
     "output_type": "execute_result"
    }
   ],
   "source": [
    "x_train = tf.convert_to_tensor(np.array(x_train))\n",
    "x_train.shape"
   ]
  },
  {
   "cell_type": "markdown",
   "metadata": {
    "colab_type": "text",
    "id": "Dx9aSfxxFocZ"
   },
   "source": [
    "# ✎ Train the model(s)\n",
    "\n",
    "You must:\n",
    "\n",
    "- Select an appropriate optimizer and learning rate.\n",
    "- Plot the loss over the epochs of training.\n",
    "- Plot the training accuracy over the epochs.\n",
    "\n",
    "**Challenge**\n",
    "\n",
    "It's extremely difficult to get good training on _rare_ events.  Note that there is only **ONE** Tornado and **TWO** Hail events in the training data.\n",
    "\n",
    "An effective way is to duplicate the rare events in the training data, and use _shuffle=True_ in the training (model.fit) so that the network sees approximately equal number of occurrances of different weather events."
   ]
  },
  {
   "cell_type": "code",
   "execution_count": 21,
   "metadata": {
    "colab": {},
    "colab_type": "code",
    "id": "W_Btm8wsGF68",
    "scrolled": true
   },
   "outputs": [
    {
     "name": "stdout",
     "output_type": "stream",
     "text": [
      "Training model on Rain\n"
     ]
    },
    {
     "data": {
      "image/png": "[encoded data removed]",
      "text/plain": [
       "<Figure size 432x288 with 1 Axes>"
      ]
     },
     "metadata": {
      "needs_background": "light"
     },
     "output_type": "display_data"
    },
    {
     "name": "stdout",
     "output_type": "stream",
     "text": [
      "Training model on Snow\n"
     ]
    },
    {
     "data": {
      "image/png": "[encoded data removed]",
      "text/plain": [
       "<Figure size 432x288 with 1 Axes>"
      ]
     },
     "metadata": {
      "needs_background": "light"
     },
     "output_type": "display_data"
    },
    {
     "name": "stdout",
     "output_type": "stream",
     "text": [
      "Training model on Fog\n"
     ]
    },
    {
     "data": {
      "image/png": "[encoded data removed]",
      "text/plain": [
       "<Figure size 432x288 with 1 Axes>"
      ]
     },
     "metadata": {
      "needs_background": "light"
     },
     "output_type": "display_data"
    },
    {
     "name": "stdout",
     "output_type": "stream",
     "text": [
      "Training model on Thunderstorm\n"
     ]
    },
    {
     "data": {
      "image/png": "[encoded data removed]",
      "text/plain": [
       "<Figure size 432x288 with 1 Axes>"
      ]
     },
     "metadata": {
      "needs_background": "light"
     },
     "output_type": "display_data"
    },
    {
     "name": "stdout",
     "output_type": "stream",
     "text": [
      "Training model on Hail\n"
     ]
    },
    {
     "data": {
      "image/png": "[encoded data removed]",
      "text/plain": [
       "<Figure size 432x288 with 1 Axes>"
      ]
     },
     "metadata": {
      "needs_background": "light"
     },
     "output_type": "display_data"
    },
    {
     "name": "stdout",
     "output_type": "stream",
     "text": [
      "Training model on Tornado\n"
     ]
    },
    {
     "data": {
      "image/png": "[encoded data removed]",
      "text/plain": [
       "<Figure size 432x288 with 1 Axes>"
      ]
     },
     "metadata": {
      "needs_background": "light"
     },
     "output_type": "display_data"
    },
    {
     "name": "stdout",
     "output_type": "stream",
     "text": [
      "Training model on NoEvent\n"
     ]
    },
    {
     "data": {
      "image/png": "[encoded data removed]",
      "text/plain": [
       "<Figure size 432x288 with 1 Axes>"
      ]
     },
     "metadata": {
      "needs_background": "light"
     },
     "output_type": "display_data"
    }
   ],
   "source": [
    "from keras.callbacks import EarlyStopping\n",
    "\n",
    "es = EarlyStopping(monitor='val_acc', mode='max', verbose=1, patience=400)\n",
    "\n",
    "model.save(\"initial.h5\")\n",
    "for i in range(7): \n",
    "    print( \"Training model on %s\" %event_columns[i] )\n",
    "    model = tf.keras.models.load_model('initial.h5')\n",
    "    \n",
    "    e = 50\n",
    "    if i==6:\n",
    "        e=50\n",
    "    \n",
    "    history= model.fit(x_train,y_train[:,i],epochs=e,validation_split=0.1,batch_size=100,shuffle=True,verbose=0,callbacks = None)\n",
    "    \n",
    "    model.save((\"modef_%s.h5\" %event_columns[i]))\n",
    "    pyplot.plot(history.history['loss'], label='train')\n",
    "    pyplot.plot(history.history['val_loss'], label='test')\n",
    "    pyplot.title(event_columns[i])\n",
    "    pyplot.legend()\n",
    "    pyplot.show()"
   ]
  },
  {
   "cell_type": "markdown",
   "metadata": {
    "colab_type": "text",
    "id": "mFuPe6iAGJoP"
   },
   "source": [
    "# ✎ Evaluation\n",
    "\n",
    "Evaluate the model using the test data.\n",
    "\n",
    "- You must plot the test accurarcy with respect to **each** event type.\n",
    "\n",
    "- For which weather event is your model actually useful?\n"
   ]
  },
  {
   "cell_type": "code",
   "execution_count": 24,
   "metadata": {
    "colab": {},
    "colab_type": "code",
    "id": "4lHOwZ-pJI4p"
   },
   "outputs": [
    {
     "name": "stdout",
     "output_type": "stream",
     "text": [
      "Rain model accuracy 87.713895\n",
      "Snow model accuracy 98.973306\n",
      "Fog model accuracy 95.859001\n",
      "Thunderstorm model accuracy 96.235455\n",
      "Hail model accuracy 99.794661\n",
      "Tornado model accuracy 100.000000\n",
      "NoEvent model accuracy 87.782341\n"
     ]
    },
    {
     "data": {
      "text/plain": [
       "[]"
      ]
     },
     "execution_count": 24,
     "metadata": {},
     "output_type": "execute_result"
    },
    {
     "data": {
      "image/png": "[encoded data removed]",
      "text/plain": [
       "<Figure size 432x288 with 1 Axes>"
      ]
     },
     "metadata": {
      "needs_background": "light"
     },
     "output_type": "display_data"
    }
   ],
   "source": [
    "x_test = np.array(x_test)\n",
    "y_test = np.array(y_test)\n",
    "acc = [] \n",
    "for i,event in enumerate(event_columns):\n",
    "    model = tf.keras.models.load_model(((\"modef_%s.h5\") %event_columns[i]))\n",
    "    values = model(x_test)\n",
    "    values = np.array(values)\n",
    "    for x in range(values.shape[0]):\n",
    "        if values[x]<0.5:\n",
    "            values[x]= 0\n",
    "        else: values[x]=1 \n",
    "    lol = y_test[:,i]\n",
    "    lol = np.expand_dims(lol,axis =1)\n",
    "    assert(values.shape==lol.shape)\n",
    "    my_truth = np.equal(values,lol)  \n",
    "    curr_acc = (np.sum(my_truth)/y_test.shape[0])*100\n",
    "    print(\"%s model accuracy %f\" %(event,curr_acc))\n",
    "    acc.append(curr_acc)\n",
    "\n",
    "index = np.arange(len(event_columns))\n",
    "\n",
    "pyplot.bar(index,acc)\n",
    "pyplot.xticks(index, event_columns, fontsize=5, rotation=0)\n",
    "pyplot.plot()\n",
    "    \n",
    "# Match y_test with results "
   ]
  },
  {
   "cell_type": "markdown",
   "metadata": {},
   "source": [
    "<h1> Explanantion of the results: </h1> \n",
    "\n",
    "The data is cleaned by dropping the rows and columsn that contain a significant amoubnt of Nan values. After which we train seven seperate models with the same parameters to train over each event type. We include dropout to avoid ovefitting. Although certain events get really high accuracies, I believe that the models are most useful for the rain and no event types,because only these two events have enough data points for the model to learn something to properly predict the outcome. "
   ]
  },
  {
   "cell_type": "code",
   "execution_count": null,
   "metadata": {},
   "outputs": [],
   "source": []
  }
 ],
 "metadata": {
  "colab": {
   "collapsed_sections": [],
   "name": "CSCI 4050U Assignment 3.ipynb",
   "provenance": []
  },
  "kernelspec": {
   "display_name": "Python 3",
   "language": "python",
   "name": "python3"
  },
  "language_info": {
   "codemirror_mode": {
    "name": "ipython",
    "version": 3
   },
   "file_extension": ".py",
   "mimetype": "text/x-python",
   "name": "python",
   "nbconvert_exporter": "python",
   "pygments_lexer": "ipython3",
   "version": "3.6.9"
  }
 },
 "nbformat": 4,
 "nbformat_minor": 1
}
