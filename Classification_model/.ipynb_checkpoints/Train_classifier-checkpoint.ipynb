{
 "cells": [
  {
   "cell_type": "code",
   "execution_count": null,
   "metadata": {},
   "outputs": [],
   "source": [
    "from __future__ import print_function\n",
    "from keras.preprocessing.text import Tokenizer\n",
    "\n",
    "from keras.preprocessing import sequence\n",
    "from keras.models import Sequential\n",
    "from keras.layers import Dense, Embedding\n",
    "from keras.layers import LSTM\n",
    "from keras.datasets import imdb\n",
    "import pandas as pd\n",
    "import numpy as np\n",
    "import matplotlib.pyplot as plt\n",
    "#import tensorflowjs as tfjs"
   ]
  },
  {
   "cell_type": "code",
   "execution_count": null,
   "metadata": {
    "scrolled": true
   },
   "outputs": [],
   "source": [
    "\"\"\"\n",
    "Create DataLoading Section\n",
    "Classes: \n",
    "1- Word of Affirmation\n",
    "2- Acts of Service\n",
    "3- Gifts\n",
    "4- Time\n",
    "5- Physical Touch\n",
    "\"\"\"\n",
    "df = pd.read_csv(\"train.csv\",\";\",header=None)\n",
    "df.head()\n",
    "print(df[1])\n",
    "print(np.array(df[1]))"
   ]
  },
  {
   "cell_type": "code",
   "execution_count": null,
   "metadata": {},
   "outputs": [],
   "source": [
    "x_train = np.array(list(df[0]))\n",
    "print(\"X len\" ,x_train.shape)\n",
    "\n",
    "y_train = np.array(df[1])\n",
    "y_train = np.subtract(y_train,1)\n",
    "print(\"Y len:\", y_train.shape)\n",
    "print(y_train)\n",
    "\n",
    "assert(len(x_train)==y_train.shape[0])"
   ]
  },
  {
   "cell_type": "code",
   "execution_count": 85,
   "metadata": {},
   "outputs": [
    {
     "name": "stdout",
     "output_type": "stream",
     "text": [
      "[[4, 13, 80, 3, 20, 1, 24, 56, 5, 37, 1, 24, 16, 13, 150, 3, 7, 8, 151, 20, 37], [1, 9, 45, 17, 2, 152, 3, 12, 1, 153, 33, 154, 9, 155], [14, 4, 156, 3, 11, 157, 15, 81], [38, 2, 158, 15, 81, 7, 3], [2, 159, 25, 15, 160], [1, 45, 39, 2, 161, 162, 6, 57, 46], [21, 163, 26, 164, 40, 47, 22, 82, 18, 2], [80, 3, 1, 24, 27, 83, 1, 84, 13, 34, 7, 30, 31, 5, 165], [1, 9, 85, 86, 20, 1, 24, 22, 87, 20, 2, 34, 6, 88, 35, 12, 89, 166, 58, 167, 168, 13, 90, 4, 3], [5, 169, 2, 170, 7, 48, 171, 91, 26, 92, 93], [1, 8, 17, 2, 172, 173, 94, 16, 174, 175, 176], [4, 13, 177, 3, 49, 17, 178, 95, 179, 3, 18, 17, 180, 1, 24, 7, 30, 96, 20, 59], [1, 9, 50, 17, 2, 181, 16, 182, 3, 17, 89, 41, 7, 30, 56, 35, 60, 1, 49, 47, 97], [14, 4, 183, 39, 1, 34, 98, 61], [21, 22, 93, 40], [9, 8, 5, 37, 2, 184], [20, 27, 99, 185, 100, 6, 51], [1, 101, 2, 7, 49, 20, 2, 62, 5, 186, 187, 188, 102, 7, 3], [13, 103, 3, 1, 24, 56, 5, 37, 1, 24, 12, 189, 104, 190, 6, 191], [2, 63, 3, 22, 82, 18, 39, 1, 33, 2, 103, 3, 7, 30, 87, 192, 193, 39, 19, 2], [2, 62, 15, 194, 16, 195, 196], [197, 105, 10, 15, 106, 107], [1, 9, 50, 17, 2, 52, 3, 108], [14, 4, 109, 3, 110], [14, 4, 5, 198, 38], [14, 4, 199, 3, 10, 109, 6, 200], [14, 4, 5, 64, 201, 99, 1, 9, 202, 11], [19, 2, 4, 13, 102, 90, 10, 3, 203, 6, 204, 16, 205], [206, 3, 42, 1, 207, 208, 111, 94, 209, 210], [19, 2, 4, 211, 212, 1, 213, 35, 214], [14, 4, 112, 65, 18, 3, 66, 1, 67, 42, 215], [216, 113, 114, 36, 115, 217], [218, 5, 219, 12, 47, 116, 220, 7, 52, 36], [1, 9, 50, 17, 2, 13, 63, 117, 1, 34, 83, 108, 16, 17, 2, 68, 118, 28, 6, 221, 4, 3], [19, 2, 4, 222, 36], [14, 4, 223, 48, 119], [14, 4, 224, 21, 65, 105, 225, 5, 226, 4, 3, 227, 5, 228, 1, 26, 229], [14, 4, 61, 5, 230, 1, 231, 97, 85, 33, 232], [1, 233, 50, 21, 234, 4, 120, 36, 5, 235, 46, 119, 1, 26, 9, 236, 31, 121, 46], [237, 238, 7, 30, 28, 15, 239, 240, 66, 1, 26, 241, 16, 242, 243, 31, 5, 244, 245], [19, 2, 4, 61, 6, 246], [14, 4, 122, 48, 247, 123, 1, 32, 248], [124, 3, 125, 16, 1, 34, 126, 67, 125, 6, 249, 250], [1, 8, 8, 8, 251, 252, 5, 27, 127], [1, 9, 45, 39, 2, 32, 3, 4, 6, 128, 1, 24, 253, 11, 254, 255], [1, 8, 11, 12, 2, 256, 3, 257, 38], [19, 2, 4, 5, 258, 20, 2, 32, 4, 3, 259, 129, 130, 25, 21, 8], [260, 2, 261, 3, 116, 59], [1, 131, 262, 2, 263, 32, 3, 5, 264, 1, 34, 98, 265, 4, 266, 51, 19, 2, 22, 59, 38], [13, 124, 3, 267, 63, 117, 1, 268, 65, 18, 6, 269], [2, 132, 3, 270, 271, 12, 1, 101, 7, 52, 272, 133, 22, 134], [14, 4, 122, 3, 15, 43, 273], [274, 113, 3, 36, 64, 4, 135, 58, 1, 69], [13, 136, 3, 42, 16, 106, 107], [1, 9, 25, 5, 275, 276, 2, 32, 3], [19, 2, 4, 5, 277], [14, 4, 5, 278, 279, 40], [14, 4, 280, 20, 1, 137, 15, 281, 282, 283], [284, 6, 285, 19, 2, 4, 5, 286, 1, 8, 2], [1, 8, 5, 43, 287, 18, 288, 2, 32, 3, 4, 6, 128, 11, 289, 9, 27, 31, 3], [13, 136, 3, 42], [2, 132, 3, 15, 290, 18, 6, 70, 291, 133, 22, 130], [1, 9, 45, 5, 43, 292, 293, 20, 2, 32, 3], [71, 29, 10, 3, 35, 60, 294, 295, 296, 10, 297, 298, 299], [19, 2, 4, 300, 6, 301, 302, 4, 138, 303, 139], [1, 9, 53, 54, 29, 44, 12, 23, 129, 31, 5, 304], [1, 8, 71, 29, 10, 2], [1, 9, 53, 54, 29, 44], [71, 5, 51, 10, 2, 46, 26, 305], [1, 67, 15, 9, 27, 29, 306, 10, 2, 307, 11, 104, 308, 127, 18, 6, 70, 309, 10, 2, 40], [41, 68, 7, 310, 311, 43, 42], [1, 8, 11, 12, 23, 55, 31, 312, 313], [1, 9, 53, 314, 68, 10, 2, 28, 5, 315, 316, 5, 138, 18, 135], [23, 69, 317, 29, 318, 319, 35, 72, 320, 15, 321, 322], [4, 112, 64, 323, 16, 324, 7, 3, 28, 5, 325, 18, 21, 51], [19, 2, 4, 13, 120, 36, 6, 326], [1, 25, 5, 327, 29, 23, 328, 44, 140, 23, 33, 11, 73, 74, 329, 141, 330, 331, 73, 74], [11, 26, 134, 7, 30, 10, 2, 16, 332, 7, 21, 333], [110, 26, 142, 143, 33, 11, 75, 334], [1, 335, 23, 140, 336, 144, 337, 75, 338, 1, 8, 339, 43, 340, 44, 10, 2], [41, 341, 10, 3, 35, 60, 47, 92, 342, 7, 343, 10], [1, 145, 344, 54, 70, 345, 44, 111, 118, 346, 28, 54, 347], [1, 145, 41, 31, 348, 349, 10, 2, 350, 48], [76, 3, 146, 72, 351, 62, 41, 7, 30, 352], [1, 8, 17, 2, 353, 3, 4, 354, 355, 18, 29], [1, 25, 11, 12, 2, 356, 6, 88, 16, 6, 357], [2, 77, 22, 27, 40], [1, 9, 53, 21, 358, 359], [1, 8, 11, 12, 23, 55, 360, 22, 361], [1, 8, 11, 12, 2, 78, 3, 66, 362, 10, 6, 57], [13, 78, 6, 363], [1, 8, 11, 12, 2, 364, 10, 6, 57], [1, 25, 11, 12, 2, 76, 3, 123, 1, 365, 4, 121], [1, 126, 137, 7, 366, 114, 86, 1, 8, 2, 367, 1, 49, 115, 15, 76, 58, 15, 147, 368], [79, 3, 27, 148], [1, 8, 17, 2, 369, 370, 3, 15, 27, 148, 79], [1, 25, 17, 23, 55, 143, 33, 11, 73, 74], [1, 8, 21, 149, 38], [5, 37, 2, 371, 372, 373, 18, 6, 374, 100, 3, 77, 96], [11, 95, 142, 375, 21, 147, 28, 376, 12, 23, 377, 144], [1, 69, 141, 2, 28, 378, 139, 1, 131, 379, 7, 55, 16, 79, 2, 75], [13, 149, 3, 146, 72, 2, 84, 380, 3, 7, 381], [1, 8, 17, 2, 78, 3, 12, 2, 52, 382, 383, 91, 384, 3, 77, 385], [1, 25, 386, 10, 2, 28, 387]]\n"
     ]
    }
   ],
   "source": [
    "\"\"\"\n",
    "We must encode the word vectors with one hot encoding \n",
    "inorder to pass the values into the array\n",
    "\"\"\"\n",
    "t = Tokenizer()\n",
    "t.fit_on_texts(x_train)\n",
    "vocab_size = len(t.word_index) + 1\n",
    "# integer encode the documents\n",
    "encoded_x = t.texts_to_sequences(x_train)\n",
    "print(encoded_x)"
   ]
  },
  {
   "cell_type": "code",
   "execution_count": 86,
   "metadata": {},
   "outputs": [
    {
     "name": "stdout",
     "output_type": "stream",
     "text": [
      "Loading data...\n",
      "104 train sequences\n",
      "Pad sequences (samples x time)\n",
      "x_train shape: (104, 50)\n"
     ]
    }
   ],
   "source": [
    "\"\"\"\n",
    "Section to Prep the data before training \n",
    "\"\"\"\n",
    "# cut texts after this number of words (among top max_features most common words)\n",
    "maxlen = 50\n",
    "batch_size = 32\n",
    "print('Loading data...')\n",
    "\n",
    "print(len(encoded_x), 'train sequences')\n",
    "#print(len(x_test), 'test sequences')\n",
    "\n",
    "print('Pad sequences (samples x time)')\n",
    "x_train = sequence.pad_sequences(encoded_x, maxlen=maxlen)\n",
    "#x_test = sequence.pad_sequences(x_test, maxlen=maxlen)\n",
    "print('x_train shape:', x_train.shape)\n",
    "#print('x_test shape:', x_test.shape)\n"
   ]
  },
  {
   "cell_type": "code",
   "execution_count": null,
   "metadata": {},
   "outputs": [],
   "source": []
  },
  {
   "cell_type": "code",
   "execution_count": 87,
   "metadata": {},
   "outputs": [
    {
     "name": "stdout",
     "output_type": "stream",
     "text": [
      "y_train shape: (104,)\n"
     ]
    },
    {
     "data": {
      "text/plain": [
       "0"
      ]
     },
     "execution_count": 87,
     "metadata": {},
     "output_type": "execute_result"
    }
   ],
   "source": [
    "print('y_train shape:', y_train.shape)\n",
    "#print('y_test shape:', y_test.shape)\n",
    "y_train[10]"
   ]
  },
  {
   "cell_type": "code",
   "execution_count": 88,
   "metadata": {},
   "outputs": [],
   "source": [
    "\"\"\"\n",
    "Build Model for Training\n",
    "\"\"\"\n",
    "\n",
    "model = Sequential([Embedding(max_features, 40),\n",
    "                   LSTM(40, dropout=0.2, recurrent_dropout=0.2),\n",
    "                   Dense(10, activation='relu'),\n",
    "                   Dense(5,activation='softmax')])\n",
    "\n",
    "# try using different optimizers and different op"
   ]
  },
  {
   "cell_type": "code",
   "execution_count": 89,
   "metadata": {},
   "outputs": [],
   "source": [
    "model.compile(loss='sparse_categorical_crossentropy',\n",
    "              optimizer='adam',\n",
    "              metrics=['accuracy'])\n"
   ]
  },
  {
   "cell_type": "code",
   "execution_count": 90,
   "metadata": {},
   "outputs": [
    {
     "name": "stdout",
     "output_type": "stream",
     "text": [
      "_________________________________________________________________\n",
      "Layer (type)                 Output Shape              Param #   \n",
      "=================================================================\n",
      "embedding_9 (Embedding)      (None, None, 40)          800000    \n",
      "_________________________________________________________________\n",
      "lstm_9 (LSTM)                (None, 40)                12960     \n",
      "_________________________________________________________________\n",
      "dense_14 (Dense)             (None, 10)                410       \n",
      "_________________________________________________________________\n",
      "dense_15 (Dense)             (None, 5)                 55        \n",
      "=================================================================\n",
      "Total params: 813,425\n",
      "Trainable params: 813,425\n",
      "Non-trainable params: 0\n",
      "_________________________________________________________________\n"
     ]
    }
   ],
   "source": [
    "\"\"\"\n",
    "Get Model Summary\n",
    "\"\"\"\n",
    "model.summary()"
   ]
  },
  {
   "cell_type": "code",
   "execution_count": 94,
   "metadata": {},
   "outputs": [
    {
     "name": "stdout",
     "output_type": "stream",
     "text": [
      "Epoch 1/10\n",
      "104/104 [==============================] - 0s - loss: 0.0814 - acc: 0.9904     \n",
      "Epoch 2/10\n",
      "104/104 [==============================] - 0s - loss: 0.0234 - acc: 1.0000     \n",
      "Epoch 3/10\n",
      "104/104 [==============================] - 0s - loss: 0.0292 - acc: 1.0000     \n",
      "Epoch 4/10\n",
      "104/104 [==============================] - 0s - loss: 0.0264 - acc: 1.0000     \n",
      "Epoch 5/10\n",
      "104/104 [==============================] - 0s - loss: 0.0252 - acc: 1.0000     \n",
      "Epoch 6/10\n",
      "104/104 [==============================] - 0s - loss: 0.0219 - acc: 1.0000     \n",
      "Epoch 7/10\n",
      "104/104 [==============================] - 0s - loss: 0.0246 - acc: 1.0000     \n",
      "Epoch 8/10\n",
      "104/104 [==============================] - 0s - loss: 0.0228 - acc: 1.0000     \n",
      "Epoch 9/10\n",
      "104/104 [==============================] - 0s - loss: 0.0241 - acc: 1.0000     \n",
      "Epoch 10/10\n",
      "104/104 [==============================] - 0s - loss: 0.0210 - acc: 1.0000     \n"
     ]
    },
    {
     "data": {
      "image/png": "[encoded data removed]",
      "text/plain": [
       "<Figure size 432x288 with 1 Axes>"
      ]
     },
     "metadata": {
      "needs_background": "light"
     },
     "output_type": "display_data"
    }
   ],
   "source": [
    "history = model.fit(x_train, y_train, epochs=10, batch_size=30).history\n",
    "plt.plot(history['acc'], '-*', color='blue');\n",
    "plt.show()\n"
   ]
  },
  {
   "cell_type": "code",
   "execution_count": 95,
   "metadata": {},
   "outputs": [
    {
     "ename": "NameError",
     "evalue": "name 'tfjs' is not defined",
     "output_type": "error",
     "traceback": [
      "\u001b[0;31m---------------------------------------------------------------------------\u001b[0m",
      "\u001b[0;31mNameError\u001b[0m                                 Traceback (most recent call last)",
      "\u001b[0;32m<ipython-input-95-1cd315d971e5>\u001b[0m in \u001b[0;36m<module>\u001b[0;34m\u001b[0m\n\u001b[1;32m      2\u001b[0m \u001b[0mSave\u001b[0m \u001b[0mthe\u001b[0m \u001b[0mtensorlfow\u001b[0m \u001b[0mjs\u001b[0m \u001b[0mmodel\u001b[0m \u001b[0mto\u001b[0m \u001b[0mbe\u001b[0m \u001b[0mused\u001b[0m \u001b[0;32min\u001b[0m \u001b[0mthe\u001b[0m \u001b[0mbrowser\u001b[0m\u001b[0;34m\u001b[0m\u001b[0;34m\u001b[0m\u001b[0m\n\u001b[1;32m      3\u001b[0m \"\"\"\n\u001b[0;32m----> 4\u001b[0;31m \u001b[0mtfjs\u001b[0m\u001b[0;34m.\u001b[0m\u001b[0mconverters\u001b[0m\u001b[0;34m.\u001b[0m\u001b[0msave_leras_model\u001b[0m\u001b[0;34m(\u001b[0m\u001b[0mmodel\u001b[0m\u001b[0;34m,\u001b[0m\u001b[0;34m\"weights/\"\u001b[0m\u001b[0;34m)\u001b[0m\u001b[0;34m\u001b[0m\u001b[0;34m\u001b[0m\u001b[0m\n\u001b[0m",
      "\u001b[0;31mNameError\u001b[0m: name 'tfjs' is not defined"
     ]
    }
   ],
   "source": [
    "\"\"\"\n",
    "Save the tensorlfow js model to be used in the browser\n",
    "\"\"\"\n",
    "tfjs.converters.save_leras_model(model,\"weights/\")"
   ]
  },
  {
   "cell_type": "code",
   "execution_count": null,
   "metadata": {},
   "outputs": [],
   "source": []
  }
 ],
 "metadata": {
  "kernelspec": {
   "display_name": "Python 3",
   "language": "python",
   "name": "python3"
  },
  "language_info": {
   "codemirror_mode": {
    "name": "ipython",
    "version": 3
   },
   "file_extension": ".py",
   "mimetype": "text/x-python",
   "name": "python",
   "nbconvert_exporter": "python",
   "pygments_lexer": "ipython3",
   "version": "3.6.9"
  }
 },
 "nbformat": 4,
 "nbformat_minor": 2
}
